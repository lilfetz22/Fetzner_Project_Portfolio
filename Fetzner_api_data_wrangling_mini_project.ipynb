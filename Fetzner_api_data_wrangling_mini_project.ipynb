{
 "cells": [
  {
   "cell_type": "markdown",
   "metadata": {},
   "source": [
    "This exercise will require you to pull some data from the Qunadl API. Qaundl is currently the most widely used aggregator of financial market data."
   ]
  },
  {
   "cell_type": "markdown",
   "metadata": {},
   "source": [
    "As a first step, you will need to register a free account on the http://www.quandl.com website."
   ]
  },
  {
   "cell_type": "markdown",
   "metadata": {},
   "source": [
    "After you register, you will be provided with a unique API key, that you should store:"
   ]
  },
  {
   "cell_type": "code",
   "execution_count": null,
   "metadata": {
    "collapsed": true
   },
   "outputs": [],
   "source": [
    "# Store the API key as a string - according to PEP8, constants are always named in all upper case\n",
    "API_KEY = ''"
   ]
  },
  {
   "cell_type": "markdown",
   "metadata": {},
   "source": [
    "Qaundl has a large number of data sources, but, unfortunately, most of them require a Premium subscription. Still, there are also a good number of free datasets."
   ]
  },
  {
   "cell_type": "markdown",
   "metadata": {},
   "source": [
    "For this mini project, we will focus on equities data from the Frankfurt Stock Exhange (FSE), which is available for free. We'll try and analyze the stock prices of a company called Carl Zeiss Meditec, which manufactures tools for eye examinations, as well as medical lasers for laser eye surgery: https://www.zeiss.com/meditec/int/home.html. The company is listed under the stock ticker AFX_X."
   ]
  },
  {
   "cell_type": "markdown",
   "metadata": {},
   "source": [
    "You can find the detailed Quandl API instructions here: https://docs.quandl.com/docs/time-series"
   ]
  },
  {
   "cell_type": "markdown",
   "metadata": {},
   "source": [
    "While there is a dedicated Python package for connecting to the Quandl API, we would prefer that you use the *requests* package, which can be easily downloaded using *pip* or *conda*. You can find the documentation for the package here: http://docs.python-requests.org/en/master/ "
   ]
  },
  {
   "cell_type": "markdown",
   "metadata": {},
   "source": [
    "Finally, apart from the *requests* package, you are encouraged to not use any third party Python packages, such as *pandas*, and instead focus on what's available in the Python Standard Library (the *collections* module might come in handy: https://pymotw.com/3/collections/ ).\n",
    "Also, since you won't have access to DataFrames, you are encouraged to use Python's native data structures - preferably dictionaries, though some questions can also be answered using lists.\n",
    "You can read more on these data structures here: https://docs.python.org/3/tutorial/datastructures.html"
   ]
  },
  {
   "cell_type": "markdown",
   "metadata": {},
   "source": [
    "Keep in mind that the JSON responses you will be getting from the API map almost one-to-one to Python's dictionaries. Unfortunately, they can be very nested, so make sure you read up on indexing dictionaries in the documentation provided above."
   ]
  },
  {
   "cell_type": "code",
   "execution_count": 2,
   "metadata": {},
   "outputs": [],
   "source": [
    "# First, import the relevant modules\n",
    "import requests\n",
    "import json\n"
   ]
  },
  {
   "cell_type": "code",
   "execution_count": 10,
   "metadata": {},
   "outputs": [
    {
     "data": {
      "text/plain": [
       "{'dataset_data': {'limit': None,\n",
       "  'transform': None,\n",
       "  'column_index': None,\n",
       "  'column_names': ['Date',\n",
       "   'Open',\n",
       "   'High',\n",
       "   'Low',\n",
       "   'Close',\n",
       "   'Change',\n",
       "   'Traded Volume',\n",
       "   'Turnover',\n",
       "   'Last Price of the Day',\n",
       "   'Daily Traded Units',\n",
       "   'Daily Turnover'],\n",
       "  'start_date': '2014-01-02',\n",
       "  'end_date': '2014-01-02',\n",
       "  'frequency': 'daily',\n",
       "  'data': [['2014-01-02',\n",
       "    24.24,\n",
       "    24.76,\n",
       "    23.77,\n",
       "    24.18,\n",
       "    None,\n",
       "    55735.0,\n",
       "    1355658.0,\n",
       "    None,\n",
       "    None,\n",
       "    None]],\n",
       "  'collapse': None,\n",
       "  'order': None}}"
      ]
     },
     "execution_count": 10,
     "metadata": {},
     "output_type": "execute_result"
    }
   ],
   "source": [
    "# Now, call the Quandl API and pull out a small sample of the data (only one day) to get a glimpse\n",
    "# into the JSON structure that will be returned\n",
    "\n",
    "#uses the requests module to bring in the file and  then uses the .json() to read it as a json file\n",
    "r = requests.get('https://www.quandl.com/api/v3/datasets/FSE/AFX_X/data.json?start_date=2014-01-02&end_date=2014-01-02&api_key=gCCLj7uFdS59KkviLo6B')\n",
    "r.json()"
   ]
  },
  {
   "cell_type": "code",
   "execution_count": 9,
   "metadata": {},
   "outputs": [],
   "source": [
    "# Inspect the JSON structure of the object you created, and take note of how nested it is,\n",
    "# as well as the overall structure\n"
   ]
  },
  {
   "cell_type": "markdown",
   "metadata": {},
   "source": [
    "These are your tasks for this mini project:\n",
    "\n",
    "1. Collect data from the Franfurt Stock Exchange, for the ticker AFX_X, for the whole year 2017 (keep in mind that the date format is YYYY-MM-DD).\n",
    "2. Convert the returned JSON object into a Python dictionary.\n",
    "3. Calculate what the highest and lowest opening prices were for the stock in this period.\n",
    "4. What was the largest change in any one day (based on High and Low price)?\n",
    "5. What was the largest change between any two days (based on Closing Price)?\n",
    "6. What was the average daily trading volume during this year?\n",
    "7. (Optional) What was the median trading volume during this year. (Note: you may need to implement your own function for calculating the median.)"
   ]
  },
  {
   "cell_type": "code",
   "execution_count": 93,
   "metadata": {},
   "outputs": [],
   "source": [
    "#question 1: Collect data from the Franfurt Stock Exchange, for the ticker AFX_X, for the whole year 2017 \n",
    "#(keep in mind that the date format is YYYY-MM-DD)\n",
    "\n",
    "# this brings in the dataset for the entire year from 2017-01-02 through 2017-12-29 - the market is not open on New Year's\n",
    "# Day or the 12-30 or 12-31. Thus, there is no data for these dates in the dataset although I called them in my urlstring\n",
    "r2 = requests.get('https://www.quandl.com/api/v3/datasets/FSE/AFX_X/data.json?start_date=2017-01-01&end_date=2017-12-31&api_key=API_KEY')\n",
    "json_file = r2.json()\n",
    "#json_file"
   ]
  },
  {
   "cell_type": "code",
   "execution_count": 7,
   "metadata": {},
   "outputs": [
    {
     "data": {
      "text/plain": [
       "dict"
      ]
     },
     "execution_count": 7,
     "metadata": {},
     "output_type": "execute_result"
    }
   ],
   "source": [
    "#Question 2: Convert the returned JSON object into a Python dictionary.\n",
    "\n",
    "#This converts the json object into a dictionary\n",
    "json_file = dict(json_file)\n",
    "type(json_file)"
   ]
  },
  {
   "cell_type": "code",
   "execution_count": 92,
   "metadata": {
    "scrolled": true
   },
   "outputs": [],
   "source": [
    "json_data = json_file['dataset_data'] # goes down a level in the dictionary so that I can call the nested keys\n",
    "json_data1 = json_data['data'] # all of the data for the dataset\n",
    "json_columns = json_data['column_names'] # all of the column names of the dataset\n",
    "\n",
    "# this for loop goes through and places each column name as a dictionary key that can be called with their corresponding data\n",
    "#points for each day. Thus, I can call all of the opening prices for every single day of 2017 with the key 'Open'\n",
    "#I will be using data_dict (the dataframe I placed everything into) for the following questions\n",
    "data_dict = {} #empty dictionary\n",
    "for i in range(255):\n",
    "    lval = json_data1[i]\n",
    "    for b in range(11):\n",
    "        key = json_columns[b]\n",
    "        value = lval[b]\n",
    "        if i < 1:\n",
    "            data_dict[key] = [lval[b]]\n",
    "        else:\n",
    "            data_dict[key].append(lval[b])"
   ]
  },
  {
   "cell_type": "code",
   "execution_count": 65,
   "metadata": {},
   "outputs": [
    {
     "name": "stdout",
     "output_type": "stream",
     "text": [
      "53.11\n",
      "34.0\n"
     ]
    }
   ],
   "source": [
    "#Question 3: Calculate what the highest and lowest opening prices were for the stock in this period.\n",
    "\n",
    "\n",
    "openprices = [] \n",
    "prices = data_dict['Open']\n",
    "\n",
    "#this for loop checks for any missing data and removes the nones from the list since there were 2 days that were missing data\n",
    "# and causing an error when attempting to use the max and min functions\n",
    "for val in prices:\n",
    "    if val != None:\n",
    "        openprices.append(val)\n",
    "\n",
    "print(max(openprices))\n",
    "print(min(openprices))\n"
   ]
  },
  {
   "cell_type": "code",
   "execution_count": 79,
   "metadata": {
    "scrolled": true
   },
   "outputs": [
    {
     "data": {
      "text/plain": [
       "2.8100000000000023"
      ]
     },
     "execution_count": 79,
     "metadata": {},
     "output_type": "execute_result"
    }
   ],
   "source": [
    "# Question 4: What was the largest change in any one day (based on High and Low price)?\n",
    "\n",
    "highprice = data_dict['High']# saves list of High prices\n",
    "lowprice = data_dict['Low']\n",
    "maxchange = 0 # empty variable to be filled by for loop\n",
    "# this for loop compares the high and low prices for each day and then saves them to the maxchange variable if it finds that \n",
    "# the change is greater in that comparison than any other previous comparison\n",
    "for i in range(255):\n",
    "    h = highprice[i]\n",
    "    l = lowprice[i]\n",
    "    change = abs(h - l)\n",
    "    if change > maxchange:\n",
    "        maxchange = change\n",
    "maxchange\n",
    "    \n",
    "    \n"
   ]
  },
  {
   "cell_type": "code",
   "execution_count": 82,
   "metadata": {},
   "outputs": [
    {
     "data": {
      "text/plain": [
       "2.559999999999995"
      ]
     },
     "execution_count": 82,
     "metadata": {},
     "output_type": "execute_result"
    }
   ],
   "source": [
    "#Question 5: What was the largest change between any two days (based on Closing Price)?\n",
    "\n",
    "#basically the same code as the previous cell except using two days rather than high and low\n",
    "closingprice = data_dict['Close']\n",
    "largest = 0\n",
    "for i in range(255):\n",
    "    if i <= 253:\n",
    "        dayone = closingprice[i]\n",
    "        daytwo = closingprice[i+1]\n",
    "        change = abs(dayone - daytwo)\n",
    "        if change > largest:\n",
    "            largest = change\n",
    "largest\n",
    "    "
   ]
  },
  {
   "cell_type": "code",
   "execution_count": 87,
   "metadata": {},
   "outputs": [
    {
     "data": {
      "text/plain": [
       "89124.33725490196"
      ]
     },
     "execution_count": 87,
     "metadata": {},
     "output_type": "execute_result"
    }
   ],
   "source": [
    "# Question 6: What was the average daily trading volume during this year?\n",
    "\n",
    "# finds the average trading volume by adding all volumes in the list together and dividing by the length of the list\n",
    "volume = data_dict['Traded Volume']\n",
    "sum(volume)/len(volume)\n"
   ]
  },
  {
   "cell_type": "code",
   "execution_count": 91,
   "metadata": {},
   "outputs": [
    {
     "data": {
      "text/plain": [
       "76600.0"
      ]
     },
     "execution_count": 91,
     "metadata": {},
     "output_type": "execute_result"
    }
   ],
   "source": [
    "# Question 7: What was the median trading volume during this year. \n",
    "#     (Note: you may need to implement your own function for calculating the median.)\n",
    "\n",
    "#finds the median by sorting the volumes from least to greatest then finds the middle which is at index 128 since half of \n",
    "#255 is 127.5 thus there are 127 values before the value at index 128 and 127 values after thus making index 128 the median\n",
    "volume.sort()\n",
    "median = volume[128]\n",
    "median\n"
   ]
  }
 ],
 "metadata": {
  "kernelspec": {
   "display_name": "Python 3",
   "language": "python",
   "name": "python3"
  },
  "language_info": {
   "codemirror_mode": {
    "name": "ipython",
    "version": 3
   },
   "file_extension": ".py",
   "mimetype": "text/x-python",
   "name": "python",
   "nbconvert_exporter": "python",
   "pygments_lexer": "ipython3",
   "version": "3.7.3"
  }
 },
 "nbformat": 4,
 "nbformat_minor": 2
}
